{
 "cells": [
  {
   "cell_type": "code",
   "execution_count": 65,
   "id": "eedaee92",
   "metadata": {},
   "outputs": [
    {
     "name": "stdout",
     "output_type": "stream",
     "text": [
      "Sprint 12\n",
      "2021-12-20 04:43:02\n",
      "Total points for Sprint 12 is 44\n",
      "{'2021-12-20': 3, '2021-12-21': 0, '2021-12-22': 0, '2021-12-23': 0, '2021-12-24': 0, '2021-12-25': 0, '2021-12-26': 0, '2021-12-27': 0, '2021-12-28': 0}\n"
     ]
    }
   ],
   "source": [
    "import re\n",
    "from dotenv import load_dotenv\n",
    "from github import Github, Issue, Project, ProjectCard\n",
    "from datetime import date, datetime, time, timedelta\n",
    "import os\n",
    "import matplotlib.pyplot as plt\n",
    "import pandas as pd\n",
    "import numpy as np\n",
    "load_dotenv()\n",
    "\n",
    "\n",
    "token = os.getenv(\"GH_PAT\")\n",
    "repo_name = \"zite-io/zite\"\n",
    "\n",
    "point_match_regex = re.compile(r'(point)\\s+(\\d+)')\n",
    "\n",
    "\n",
    "g = Github(token)\n",
    "repo = g.get_repo(repo_name)\n",
    "\n",
    "all_sprints = repo.get_projects().reversed #THis Can be looped for every active sprint\n",
    "sprint = all_sprints[0]\n",
    "\n",
    "def calculate_latest_sprint_points(sprint:Project):\n",
    "    print(sprint.name)\n",
    "    print(sprint.created_at)\n",
    "    total_sprint_points = 0\n",
    "    sprint_day_index = sprint.created_at\n",
    "    points_dictionary = {}\n",
    "    while (sprint_day_index<datetime.now()):\n",
    "        points_dictionary[str(sprint_day_index.date())] = 0\n",
    "        sprint_day_index+=timedelta(days=1)\n",
    "    for col in sprint.get_columns():\n",
    "        for card in col.get_cards():\n",
    "            issue_id = int(card.content_url.split(\"/\")[-1])\n",
    "            issue = repo.get_issue(number=issue_id)\n",
    "            for label in issue.labels:\n",
    "                matches = re.findall(point_match_regex, label.name)\n",
    "                if len(matches)> 0:\n",
    "                    for match in matches:\n",
    "                        total_sprint_points += int(match[-1])\n",
    "                    for match in matches:\n",
    "                        point = int(match[-1])\n",
    "                        if issue.state == \"closed\":\n",
    "                            iss_closed_date = str(issue.closed_at.date())\n",
    "                            try:\n",
    "                                points_dictionary[iss_closed_date] += point\n",
    "                            except Exception as e:\n",
    "                                points_dictionary[iss_closed_date] = point\n",
    "    print(f\"Total points for {sprint.name} is {total_sprint_points}\")\n",
    "    print(points_dictionary)\n",
    "    return {\"points\":points_dictionary, \"total_sprint_points\":total_sprint_points}\n",
    "\n",
    "\n",
    "points = calculate_latest_sprint_points(all_sprints[0])"
   ]
  },
  {
   "cell_type": "code",
   "execution_count": 66,
   "id": "eb4fd1c5",
   "metadata": {
    "scrolled": true
   },
   "outputs": [
    {
     "data": {
      "text/plain": [
       "{'points': {'2021-12-20': 3,\n",
       "  '2021-12-21': 0,\n",
       "  '2021-12-22': 0,\n",
       "  '2021-12-23': 0,\n",
       "  '2021-12-24': 0,\n",
       "  '2021-12-25': 0,\n",
       "  '2021-12-26': 0,\n",
       "  '2021-12-27': 0,\n",
       "  '2021-12-28': 0},\n",
       " 'total_sprint_points': 44}"
      ]
     },
     "execution_count": 66,
     "metadata": {},
     "output_type": "execute_result"
    }
   ],
   "source": [
    "points"
   ]
  },
  {
   "cell_type": "code",
   "execution_count": 131,
   "id": "c2ea92de",
   "metadata": {
    "scrolled": true
   },
   "outputs": [
    {
     "data": {
      "text/html": [
       "<div>\n",
       "<style scoped>\n",
       "    .dataframe tbody tr th:only-of-type {\n",
       "        vertical-align: middle;\n",
       "    }\n",
       "\n",
       "    .dataframe tbody tr th {\n",
       "        vertical-align: top;\n",
       "    }\n",
       "\n",
       "    .dataframe thead th {\n",
       "        text-align: right;\n",
       "    }\n",
       "</style>\n",
       "<table border=\"1\" class=\"dataframe\">\n",
       "  <thead>\n",
       "    <tr style=\"text-align: right;\">\n",
       "      <th></th>\n",
       "      <th>Points Completed on Date</th>\n",
       "      <th>Total Points Completed</th>\n",
       "      <th>Required Burn</th>\n",
       "    </tr>\n",
       "  </thead>\n",
       "  <tbody>\n",
       "    <tr>\n",
       "      <th>2021-12-20</th>\n",
       "      <td>3</td>\n",
       "      <td>3</td>\n",
       "      <td>44</td>\n",
       "    </tr>\n",
       "    <tr>\n",
       "      <th>2021-12-21</th>\n",
       "      <td>0</td>\n",
       "      <td>3</td>\n",
       "      <td>44</td>\n",
       "    </tr>\n",
       "    <tr>\n",
       "      <th>2021-12-22</th>\n",
       "      <td>0</td>\n",
       "      <td>3</td>\n",
       "      <td>44</td>\n",
       "    </tr>\n",
       "    <tr>\n",
       "      <th>2021-12-23</th>\n",
       "      <td>0</td>\n",
       "      <td>3</td>\n",
       "      <td>44</td>\n",
       "    </tr>\n",
       "    <tr>\n",
       "      <th>2021-12-24</th>\n",
       "      <td>0</td>\n",
       "      <td>3</td>\n",
       "      <td>44</td>\n",
       "    </tr>\n",
       "    <tr>\n",
       "      <th>2021-12-25</th>\n",
       "      <td>0</td>\n",
       "      <td>3</td>\n",
       "      <td>44</td>\n",
       "    </tr>\n",
       "    <tr>\n",
       "      <th>2021-12-26</th>\n",
       "      <td>0</td>\n",
       "      <td>3</td>\n",
       "      <td>44</td>\n",
       "    </tr>\n",
       "    <tr>\n",
       "      <th>2021-12-27</th>\n",
       "      <td>0</td>\n",
       "      <td>3</td>\n",
       "      <td>44</td>\n",
       "    </tr>\n",
       "    <tr>\n",
       "      <th>2021-12-28</th>\n",
       "      <td>0</td>\n",
       "      <td>3</td>\n",
       "      <td>44</td>\n",
       "    </tr>\n",
       "  </tbody>\n",
       "</table>\n",
       "</div>"
      ],
      "text/plain": [
       "            Points Completed on Date  Total Points Completed  Required Burn\n",
       "2021-12-20                         3                       3             44\n",
       "2021-12-21                         0                       3             44\n",
       "2021-12-22                         0                       3             44\n",
       "2021-12-23                         0                       3             44\n",
       "2021-12-24                         0                       3             44\n",
       "2021-12-25                         0                       3             44\n",
       "2021-12-26                         0                       3             44\n",
       "2021-12-27                         0                       3             44\n",
       "2021-12-28                         0                       3             44"
      ]
     },
     "execution_count": 131,
     "metadata": {},
     "output_type": "execute_result"
    }
   ],
   "source": [
    "import math\n",
    "points_df = pd.DataFrame.from_dict(points['points'], orient=\"index\", columns=['Points Completed on Date'])\n",
    "points_df['Total Points Completed'] = points_df['Points Completed on Date'].cumsum()\n",
    "\n",
    "# worker_val = math.ceil(points['total_sprint_points']/len(points_df))\n",
    "# start = (points['total_sprint_points'] - points['total_sprint_points']) +1* worker_val\n",
    "# end= points['total_sprint_points']\n",
    "# print(worker_val)\n",
    "# print(start)\n",
    "# print(end)\n",
    "\n",
    "points_df['Required Burn'] = points['total_sprint_points']\n",
    "\n",
    "points_df"
   ]
  },
  {
   "cell_type": "code",
   "execution_count": 135,
   "id": "61cd6b80",
   "metadata": {},
   "outputs": [
    {
     "data": {
      "text/plain": [
       "Text(0, 0.5, 'Points')"
      ]
     },
     "execution_count": 135,
     "metadata": {},
     "output_type": "execute_result"
    },
    {
     "data": {
      "image/png": "[encoded data removed]",
      "text/plain": [
       "<Figure size 432x288 with 1 Axes>"
      ]
     },
     "metadata": {
      "needs_background": "light"
     },
     "output_type": "display_data"
    }
   ],
   "source": [
    "fig = points_df.plot(legend=True, rot=1)\n",
    "plt.xticks(rotation=90)\n",
    "fig.set_xlabel('Dates')\n",
    "fig.set_ylabel('Points')"
   ]
  },
  {
   "cell_type": "code",
   "execution_count": null,
   "id": "c2752cca",
   "metadata": {},
   "outputs": [],
   "source": []
  },
  {
   "cell_type": "code",
   "execution_count": null,
   "id": "b587d424",
   "metadata": {},
   "outputs": [],
   "source": []
  },
  {
   "cell_type": "code",
   "execution_count": null,
   "id": "f58f9854",
   "metadata": {},
   "outputs": [],
   "source": []
  }
 ],
 "metadata": {
  "kernelspec": {
   "display_name": "Python 3 (ipykernel)",
   "language": "python",
   "name": "python3"
  },
  "language_info": {
   "codemirror_mode": {
    "name": "ipython",
    "version": 3
   },
   "file_extension": ".py",
   "mimetype": "text/x-python",
   "name": "python",
   "nbconvert_exporter": "python",
   "pygments_lexer": "ipython3",
   "version": "3.8.10"
  }
 },
 "nbformat": 4,
 "nbformat_minor": 5
}
